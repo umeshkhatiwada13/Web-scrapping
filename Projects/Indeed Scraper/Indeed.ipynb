{
 "cells": [
  {
   "cell_type": "code",
   "execution_count": 4,
   "id": "initial_id",
   "metadata": {
    "ExecuteTime": {
     "end_time": "2024-02-20T06:48:57.448531800Z",
     "start_time": "2024-02-20T06:48:57.445555800Z"
    }
   },
   "outputs": [],
   "source": [
    "import pandas as pd"
   ]
  },
  {
   "cell_type": "code",
   "execution_count": 5,
   "id": "e36e42e63e705b17",
   "metadata": {
    "ExecuteTime": {
     "end_time": "2024-02-20T06:49:00.108850600Z",
     "start_time": "2024-02-20T06:49:00.101838100Z"
    }
   },
   "outputs": [],
   "source": [
    "df = pd.read_csv('indeed.csv')"
   ]
  },
  {
   "cell_type": "code",
   "execution_count": 6,
   "id": "7ee26750",
   "metadata": {
    "ExecuteTime": {
     "end_time": "2024-02-20T06:49:02.517376800Z",
     "start_time": "2024-02-20T06:49:02.501713500Z"
    }
   },
   "outputs": [
    {
     "data": {
      "text/plain": "                                                Title  \\\n0                                  English & Mandarin   \n1               Food and Beverage Warehouse Attendant   \n2                 Food and Beverage Starbucks Barista   \n3                              Customer Service Agent   \n4        Warehouse Material Handler Food and Beverage   \n5                         Customer Service Agent (PT)   \n6                                                   E   \n7                    Administrative Clerk (12 months)   \n8                                   WAREHOUSE MANAGER   \n9   InKompass 2024 Legal Summer internship Toronto...   \n10             Warehouse Supervisor Food and Beverage   \n11                               Operations Associate   \n12                                    Sandwich Artist   \n13                            Punjabi project manager   \n14                           Punjabi accounts manager   \n\n                           Company                              Location  \\\n0                  Style Democracy    6900 Airport Road, Mississauga, ON   \n1              Canada's Wonderland         9580 Jane Street, Vaughan, ON   \n2              Canada's Wonderland         9580 Jane Street, Vaughan, ON   \n3                          WestJet                                   NaN   \n4              Canada's Wonderland         9580 Jane Street, Vaughan, ON   \n5                 Jazz Aviation LP                                   NaN   \n6               6 sigma sim racing  300 Steelcase Road West, Markham, ON   \n7                Legal Aid Ontario    40 Dundas Street West, Toronto, ON   \n8   TOTAL Transportation Solutions                                   NaN   \n9    Rothmans, Benson & Hedges Inc                                   NaN   \n10             Canada's Wonderland         9580 Jane Street, Vaughan, ON   \n11            FedEx Freight Canada   5919 Shawson Drive, Mississauga, ON   \n12                Subway - 31027-0                                   NaN   \n13                    ModSoc Media     100 King Street West, Toronto, ON   \n14                    ModSoc Media     100 King Street West, Toronto, ON   \n\n                                          Description  \\\n0   *PLEASE READ THOROUGHLY*:\\n-An amazing Warehou...   \n1   Overview:\\nCana da’s $17.50 / hr.\\n\\nCandidate...   \n2   Overview:\\n$16.55 / hour\\n\\nCandidates must be...   \n3   Why WestJet:\\n\\nEvery WestJet journey has the ...   \n4   Overview:\\n$18.00 / hr.\\n\\nApplicants must be ...   \n5   Customer Service Agent (PT)\\nApply by Date: Fe...   \n6   Fast growing E-commerce company looking for fu...   \n7   Company Bio\\nLegal Aid Ontario employees are c...   \n8   Primary Function:\\nThis is very HANDS ON WAREH...   \n9   Real Projects, Real Challenges and Real impact...   \n10  Overview:\\n$20 / hour\\n\\nCandidates must be a ...   \n11  Job Description\\nM-F, 16:00- 20:00 INDMS\\n\\nGE...   \n12  As part of the Subway® Team, you as a Sandwich...   \n13  Responsibilities\\n- Create engaging and compel...   \n14  Responsibilities\\n- Create engaging and compel...   \n\n                                              Benefit  \\\n0                                                 NaN   \n1                                                 NaN   \n2                             Discounted or free food   \n3                                                 NaN   \n4                                                 NaN   \n5                                                 NaN   \n6                                                 NaN   \n7                                                 NaN   \n8                                                 NaN   \n9                                                 NaN   \n10                            Discounted or free food   \n11                                                NaN   \n12                                                NaN   \n13  Commuter benefits, Language training provided,...   \n14  Commuter benefits, Language training provided,...   \n\n                             Pay  \\\n0                    $17 an hour   \n1                 $17.50 an hour   \n2                 $16.55 an hour   \n3                            NaN   \n4                    $18 an hour   \n5                            NaN   \n6               From $25 an hour   \n7                            NaN   \n8         $68,000–$72,000 a year   \n9                    $25 an hour   \n10                   $20 an hour   \n11                           NaN   \n12                           NaN   \n13  $55,131.15–$60,000.00 a year   \n14  $55,131.15–$60,000.00 a year   \n\n                                             Job Type  \\\n0                         Part-time, Seasonal, Casual   \n1                                           Full-time   \n2                                                 NaN   \n3                                           Part-time   \n4                                           Full-time   \n5                                Permanent, Part-time   \n6   Part-time, Fixed term contract, Internship / C...   \n7                       Contract, Fixed term contract   \n8                                           Full-time   \n9                       Full-time, Internship / Co-op   \n10                                                NaN   \n11                                          Part-time   \n12                               Part-time, Full-time   \n13                               Permanent, Full-time   \n14                               Permanent, Full-time   \n\n                                                Shift  \n0   12 hour shift, Weekends as needed, 10 hour shi...  \n1                        Weekends as needed, Holidays  \n2         Weekends as needed, Evening shift, Holidays  \n3                                                 NaN  \n4                        Weekends as needed, Holidays  \n5                                                 NaN  \n6                          Overtime, Monday to Friday  \n7                                                 NaN  \n8                                    Monday to Friday  \n9                          Overtime, Monday to Friday  \n10        Weekends as needed, Evening shift, Holidays  \n11                                   Monday to Friday  \n12       Weekends as needed, Evening shift, Day shift  \n13                     8 hour shift, Monday to Friday  \n14                     8 hour shift, Monday to Friday  ",
      "text/html": "<div>\n<style scoped>\n    .dataframe tbody tr th:only-of-type {\n        vertical-align: middle;\n    }\n\n    .dataframe tbody tr th {\n        vertical-align: top;\n    }\n\n    .dataframe thead th {\n        text-align: right;\n    }\n</style>\n<table border=\"1\" class=\"dataframe\">\n  <thead>\n    <tr style=\"text-align: right;\">\n      <th></th>\n      <th>Title</th>\n      <th>Company</th>\n      <th>Location</th>\n      <th>Description</th>\n      <th>Benefit</th>\n      <th>Pay</th>\n      <th>Job Type</th>\n      <th>Shift</th>\n    </tr>\n  </thead>\n  <tbody>\n    <tr>\n      <th>0</th>\n      <td>English &amp; Mandarin</td>\n      <td>Style Democracy</td>\n      <td>6900 Airport Road, Mississauga, ON</td>\n      <td>*PLEASE READ THOROUGHLY*:\\n-An amazing Warehou...</td>\n      <td>NaN</td>\n      <td>$17 an hour</td>\n      <td>Part-time, Seasonal, Casual</td>\n      <td>12 hour shift, Weekends as needed, 10 hour shi...</td>\n    </tr>\n    <tr>\n      <th>1</th>\n      <td>Food and Beverage Warehouse Attendant</td>\n      <td>Canada's Wonderland</td>\n      <td>9580 Jane Street, Vaughan, ON</td>\n      <td>Overview:\\nCana da’s $17.50 / hr.\\n\\nCandidate...</td>\n      <td>NaN</td>\n      <td>$17.50 an hour</td>\n      <td>Full-time</td>\n      <td>Weekends as needed, Holidays</td>\n    </tr>\n    <tr>\n      <th>2</th>\n      <td>Food and Beverage Starbucks Barista</td>\n      <td>Canada's Wonderland</td>\n      <td>9580 Jane Street, Vaughan, ON</td>\n      <td>Overview:\\n$16.55 / hour\\n\\nCandidates must be...</td>\n      <td>Discounted or free food</td>\n      <td>$16.55 an hour</td>\n      <td>NaN</td>\n      <td>Weekends as needed, Evening shift, Holidays</td>\n    </tr>\n    <tr>\n      <th>3</th>\n      <td>Customer Service Agent</td>\n      <td>WestJet</td>\n      <td>NaN</td>\n      <td>Why WestJet:\\n\\nEvery WestJet journey has the ...</td>\n      <td>NaN</td>\n      <td>NaN</td>\n      <td>Part-time</td>\n      <td>NaN</td>\n    </tr>\n    <tr>\n      <th>4</th>\n      <td>Warehouse Material Handler Food and Beverage</td>\n      <td>Canada's Wonderland</td>\n      <td>9580 Jane Street, Vaughan, ON</td>\n      <td>Overview:\\n$18.00 / hr.\\n\\nApplicants must be ...</td>\n      <td>NaN</td>\n      <td>$18 an hour</td>\n      <td>Full-time</td>\n      <td>Weekends as needed, Holidays</td>\n    </tr>\n    <tr>\n      <th>5</th>\n      <td>Customer Service Agent (PT)</td>\n      <td>Jazz Aviation LP</td>\n      <td>NaN</td>\n      <td>Customer Service Agent (PT)\\nApply by Date: Fe...</td>\n      <td>NaN</td>\n      <td>NaN</td>\n      <td>Permanent, Part-time</td>\n      <td>NaN</td>\n    </tr>\n    <tr>\n      <th>6</th>\n      <td>E</td>\n      <td>6 sigma sim racing</td>\n      <td>300 Steelcase Road West, Markham, ON</td>\n      <td>Fast growing E-commerce company looking for fu...</td>\n      <td>NaN</td>\n      <td>From $25 an hour</td>\n      <td>Part-time, Fixed term contract, Internship / C...</td>\n      <td>Overtime, Monday to Friday</td>\n    </tr>\n    <tr>\n      <th>7</th>\n      <td>Administrative Clerk (12 months)</td>\n      <td>Legal Aid Ontario</td>\n      <td>40 Dundas Street West, Toronto, ON</td>\n      <td>Company Bio\\nLegal Aid Ontario employees are c...</td>\n      <td>NaN</td>\n      <td>NaN</td>\n      <td>Contract, Fixed term contract</td>\n      <td>NaN</td>\n    </tr>\n    <tr>\n      <th>8</th>\n      <td>WAREHOUSE MANAGER</td>\n      <td>TOTAL Transportation Solutions</td>\n      <td>NaN</td>\n      <td>Primary Function:\\nThis is very HANDS ON WAREH...</td>\n      <td>NaN</td>\n      <td>$68,000–$72,000 a year</td>\n      <td>Full-time</td>\n      <td>Monday to Friday</td>\n    </tr>\n    <tr>\n      <th>9</th>\n      <td>InKompass 2024 Legal Summer internship Toronto...</td>\n      <td>Rothmans, Benson &amp; Hedges Inc</td>\n      <td>NaN</td>\n      <td>Real Projects, Real Challenges and Real impact...</td>\n      <td>NaN</td>\n      <td>$25 an hour</td>\n      <td>Full-time, Internship / Co-op</td>\n      <td>Overtime, Monday to Friday</td>\n    </tr>\n    <tr>\n      <th>10</th>\n      <td>Warehouse Supervisor Food and Beverage</td>\n      <td>Canada's Wonderland</td>\n      <td>9580 Jane Street, Vaughan, ON</td>\n      <td>Overview:\\n$20 / hour\\n\\nCandidates must be a ...</td>\n      <td>Discounted or free food</td>\n      <td>$20 an hour</td>\n      <td>NaN</td>\n      <td>Weekends as needed, Evening shift, Holidays</td>\n    </tr>\n    <tr>\n      <th>11</th>\n      <td>Operations Associate</td>\n      <td>FedEx Freight Canada</td>\n      <td>5919 Shawson Drive, Mississauga, ON</td>\n      <td>Job Description\\nM-F, 16:00- 20:00 INDMS\\n\\nGE...</td>\n      <td>NaN</td>\n      <td>NaN</td>\n      <td>Part-time</td>\n      <td>Monday to Friday</td>\n    </tr>\n    <tr>\n      <th>12</th>\n      <td>Sandwich Artist</td>\n      <td>Subway - 31027-0</td>\n      <td>NaN</td>\n      <td>As part of the Subway® Team, you as a Sandwich...</td>\n      <td>NaN</td>\n      <td>NaN</td>\n      <td>Part-time, Full-time</td>\n      <td>Weekends as needed, Evening shift, Day shift</td>\n    </tr>\n    <tr>\n      <th>13</th>\n      <td>Punjabi project manager</td>\n      <td>ModSoc Media</td>\n      <td>100 King Street West, Toronto, ON</td>\n      <td>Responsibilities\\n- Create engaging and compel...</td>\n      <td>Commuter benefits, Language training provided,...</td>\n      <td>$55,131.15–$60,000.00 a year</td>\n      <td>Permanent, Full-time</td>\n      <td>8 hour shift, Monday to Friday</td>\n    </tr>\n    <tr>\n      <th>14</th>\n      <td>Punjabi accounts manager</td>\n      <td>ModSoc Media</td>\n      <td>100 King Street West, Toronto, ON</td>\n      <td>Responsibilities\\n- Create engaging and compel...</td>\n      <td>Commuter benefits, Language training provided,...</td>\n      <td>$55,131.15–$60,000.00 a year</td>\n      <td>Permanent, Full-time</td>\n      <td>8 hour shift, Monday to Friday</td>\n    </tr>\n  </tbody>\n</table>\n</div>"
     },
     "execution_count": 6,
     "metadata": {},
     "output_type": "execute_result"
    }
   ],
   "source": [
    "df.head(15)"
   ]
  }
 ],
 "metadata": {
  "kernelspec": {
   "display_name": "Python 3 (ipykernel)",
   "language": "python",
   "name": "python3"
  },
  "language_info": {
   "codemirror_mode": {
    "name": "ipython",
    "version": 3
   },
   "file_extension": ".py",
   "mimetype": "text/x-python",
   "name": "python",
   "nbconvert_exporter": "python",
   "pygments_lexer": "ipython3",
   "version": "3.11.5"
  }
 },
 "nbformat": 4,
 "nbformat_minor": 5
}
